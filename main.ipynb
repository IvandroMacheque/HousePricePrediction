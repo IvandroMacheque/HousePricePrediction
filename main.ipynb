{
 "cells": [
  {
   "cell_type": "code",
   "execution_count": 151,
   "id": "225dfd4d",
   "metadata": {},
   "outputs": [
    {
     "data": {
      "text/html": [
       "<div>\n",
       "<style scoped>\n",
       "    .dataframe tbody tr th:only-of-type {\n",
       "        vertical-align: middle;\n",
       "    }\n",
       "\n",
       "    .dataframe tbody tr th {\n",
       "        vertical-align: top;\n",
       "    }\n",
       "\n",
       "    .dataframe thead th {\n",
       "        text-align: right;\n",
       "    }\n",
       "</style>\n",
       "<table border=\"1\" class=\"dataframe\">\n",
       "  <thead>\n",
       "    <tr style=\"text-align: right;\">\n",
       "      <th></th>\n",
       "      <th>Square_Footage</th>\n",
       "      <th>Num_Bedrooms</th>\n",
       "      <th>Num_Bathrooms</th>\n",
       "      <th>Year_Built</th>\n",
       "      <th>Lot_Size</th>\n",
       "      <th>Garage_Size</th>\n",
       "      <th>Neighborhood_Quality</th>\n",
       "      <th>House_Price</th>\n",
       "    </tr>\n",
       "  </thead>\n",
       "  <tbody>\n",
       "    <tr>\n",
       "      <th>0</th>\n",
       "      <td>1360</td>\n",
       "      <td>2</td>\n",
       "      <td>1</td>\n",
       "      <td>1981</td>\n",
       "      <td>0.599637</td>\n",
       "      <td>0</td>\n",
       "      <td>5</td>\n",
       "      <td>262382.852274</td>\n",
       "    </tr>\n",
       "    <tr>\n",
       "      <th>1</th>\n",
       "      <td>4272</td>\n",
       "      <td>3</td>\n",
       "      <td>3</td>\n",
       "      <td>2016</td>\n",
       "      <td>4.753014</td>\n",
       "      <td>1</td>\n",
       "      <td>6</td>\n",
       "      <td>985260.854490</td>\n",
       "    </tr>\n",
       "    <tr>\n",
       "      <th>2</th>\n",
       "      <td>3592</td>\n",
       "      <td>1</td>\n",
       "      <td>2</td>\n",
       "      <td>2016</td>\n",
       "      <td>3.634823</td>\n",
       "      <td>0</td>\n",
       "      <td>9</td>\n",
       "      <td>777977.390119</td>\n",
       "    </tr>\n",
       "    <tr>\n",
       "      <th>3</th>\n",
       "      <td>966</td>\n",
       "      <td>1</td>\n",
       "      <td>2</td>\n",
       "      <td>1977</td>\n",
       "      <td>2.730667</td>\n",
       "      <td>1</td>\n",
       "      <td>8</td>\n",
       "      <td>229698.918664</td>\n",
       "    </tr>\n",
       "  </tbody>\n",
       "</table>\n",
       "</div>"
      ],
      "text/plain": [
       "   Square_Footage  Num_Bedrooms  Num_Bathrooms  Year_Built  Lot_Size  \\\n",
       "0            1360             2              1        1981  0.599637   \n",
       "1            4272             3              3        2016  4.753014   \n",
       "2            3592             1              2        2016  3.634823   \n",
       "3             966             1              2        1977  2.730667   \n",
       "\n",
       "   Garage_Size  Neighborhood_Quality    House_Price  \n",
       "0            0                     5  262382.852274  \n",
       "1            1                     6  985260.854490  \n",
       "2            0                     9  777977.390119  \n",
       "3            1                     8  229698.918664  "
      ]
     },
     "metadata": {},
     "output_type": "display_data"
    },
    {
     "name": "stdout",
     "output_type": "stream",
     "text": [
      "<class 'pandas.core.frame.DataFrame'>\n",
      "RangeIndex: 1000 entries, 0 to 999\n",
      "Data columns (total 8 columns):\n",
      " #   Column                Non-Null Count  Dtype  \n",
      "---  ------                --------------  -----  \n",
      " 0   Square_Footage        1000 non-null   int64  \n",
      " 1   Num_Bedrooms          1000 non-null   int64  \n",
      " 2   Num_Bathrooms         1000 non-null   int64  \n",
      " 3   Year_Built            1000 non-null   int64  \n",
      " 4   Lot_Size              1000 non-null   float64\n",
      " 5   Garage_Size           1000 non-null   int64  \n",
      " 6   Neighborhood_Quality  1000 non-null   int64  \n",
      " 7   House_Price           1000 non-null   float64\n",
      "dtypes: float64(2), int64(6)\n",
      "memory usage: 62.6 KB\n"
     ]
    },
    {
     "data": {
      "text/plain": [
       "None"
      ]
     },
     "metadata": {},
     "output_type": "display_data"
    },
    {
     "data": {
      "text/plain": [
       "Square_Footage           894\n",
       "Num_Bedrooms               5\n",
       "Num_Bathrooms              3\n",
       "Year_Built                73\n",
       "Lot_Size                1000\n",
       "Garage_Size                3\n",
       "Neighborhood_Quality      10\n",
       "House_Price             1000\n",
       "dtype: int64"
      ]
     },
     "metadata": {},
     "output_type": "display_data"
    },
    {
     "data": {
      "text/html": [
       "<div>\n",
       "<style scoped>\n",
       "    .dataframe tbody tr th:only-of-type {\n",
       "        vertical-align: middle;\n",
       "    }\n",
       "\n",
       "    .dataframe tbody tr th {\n",
       "        vertical-align: top;\n",
       "    }\n",
       "\n",
       "    .dataframe thead th {\n",
       "        text-align: right;\n",
       "    }\n",
       "</style>\n",
       "<table border=\"1\" class=\"dataframe\">\n",
       "  <thead>\n",
       "    <tr style=\"text-align: right;\">\n",
       "      <th></th>\n",
       "      <th>Square_Footage</th>\n",
       "      <th>Num_Bedrooms</th>\n",
       "      <th>Num_Bathrooms</th>\n",
       "      <th>Year_Built</th>\n",
       "      <th>Lot_Size</th>\n",
       "      <th>Garage_Size</th>\n",
       "      <th>Neighborhood_Quality</th>\n",
       "      <th>House_Price</th>\n",
       "    </tr>\n",
       "  </thead>\n",
       "  <tbody>\n",
       "    <tr>\n",
       "      <th>count</th>\n",
       "      <td>1000.000000</td>\n",
       "      <td>1000.000000</td>\n",
       "      <td>1000.000000</td>\n",
       "      <td>1000.000000</td>\n",
       "      <td>1000.000000</td>\n",
       "      <td>1000.000000</td>\n",
       "      <td>1000.000000</td>\n",
       "      <td>1.000000e+03</td>\n",
       "    </tr>\n",
       "    <tr>\n",
       "      <th>mean</th>\n",
       "      <td>2815.422000</td>\n",
       "      <td>2.990000</td>\n",
       "      <td>1.973000</td>\n",
       "      <td>1986.550000</td>\n",
       "      <td>2.778087</td>\n",
       "      <td>1.022000</td>\n",
       "      <td>5.615000</td>\n",
       "      <td>6.188610e+05</td>\n",
       "    </tr>\n",
       "    <tr>\n",
       "      <th>std</th>\n",
       "      <td>1255.514921</td>\n",
       "      <td>1.427564</td>\n",
       "      <td>0.820332</td>\n",
       "      <td>20.632916</td>\n",
       "      <td>1.297903</td>\n",
       "      <td>0.814973</td>\n",
       "      <td>2.887059</td>\n",
       "      <td>2.535681e+05</td>\n",
       "    </tr>\n",
       "    <tr>\n",
       "      <th>min</th>\n",
       "      <td>503.000000</td>\n",
       "      <td>1.000000</td>\n",
       "      <td>1.000000</td>\n",
       "      <td>1950.000000</td>\n",
       "      <td>0.506058</td>\n",
       "      <td>0.000000</td>\n",
       "      <td>1.000000</td>\n",
       "      <td>1.116269e+05</td>\n",
       "    </tr>\n",
       "    <tr>\n",
       "      <th>25%</th>\n",
       "      <td>1749.500000</td>\n",
       "      <td>2.000000</td>\n",
       "      <td>1.000000</td>\n",
       "      <td>1969.000000</td>\n",
       "      <td>1.665946</td>\n",
       "      <td>0.000000</td>\n",
       "      <td>3.000000</td>\n",
       "      <td>4.016482e+05</td>\n",
       "    </tr>\n",
       "    <tr>\n",
       "      <th>50%</th>\n",
       "      <td>2862.500000</td>\n",
       "      <td>3.000000</td>\n",
       "      <td>2.000000</td>\n",
       "      <td>1986.000000</td>\n",
       "      <td>2.809740</td>\n",
       "      <td>1.000000</td>\n",
       "      <td>6.000000</td>\n",
       "      <td>6.282673e+05</td>\n",
       "    </tr>\n",
       "    <tr>\n",
       "      <th>75%</th>\n",
       "      <td>3849.500000</td>\n",
       "      <td>4.000000</td>\n",
       "      <td>3.000000</td>\n",
       "      <td>2004.250000</td>\n",
       "      <td>3.923317</td>\n",
       "      <td>2.000000</td>\n",
       "      <td>8.000000</td>\n",
       "      <td>8.271413e+05</td>\n",
       "    </tr>\n",
       "    <tr>\n",
       "      <th>max</th>\n",
       "      <td>4999.000000</td>\n",
       "      <td>5.000000</td>\n",
       "      <td>3.000000</td>\n",
       "      <td>2022.000000</td>\n",
       "      <td>4.989303</td>\n",
       "      <td>2.000000</td>\n",
       "      <td>10.000000</td>\n",
       "      <td>1.108237e+06</td>\n",
       "    </tr>\n",
       "  </tbody>\n",
       "</table>\n",
       "</div>"
      ],
      "text/plain": [
       "       Square_Footage  Num_Bedrooms  Num_Bathrooms   Year_Built     Lot_Size  \\\n",
       "count     1000.000000   1000.000000    1000.000000  1000.000000  1000.000000   \n",
       "mean      2815.422000      2.990000       1.973000  1986.550000     2.778087   \n",
       "std       1255.514921      1.427564       0.820332    20.632916     1.297903   \n",
       "min        503.000000      1.000000       1.000000  1950.000000     0.506058   \n",
       "25%       1749.500000      2.000000       1.000000  1969.000000     1.665946   \n",
       "50%       2862.500000      3.000000       2.000000  1986.000000     2.809740   \n",
       "75%       3849.500000      4.000000       3.000000  2004.250000     3.923317   \n",
       "max       4999.000000      5.000000       3.000000  2022.000000     4.989303   \n",
       "\n",
       "       Garage_Size  Neighborhood_Quality   House_Price  \n",
       "count  1000.000000           1000.000000  1.000000e+03  \n",
       "mean      1.022000              5.615000  6.188610e+05  \n",
       "std       0.814973              2.887059  2.535681e+05  \n",
       "min       0.000000              1.000000  1.116269e+05  \n",
       "25%       0.000000              3.000000  4.016482e+05  \n",
       "50%       1.000000              6.000000  6.282673e+05  \n",
       "75%       2.000000              8.000000  8.271413e+05  \n",
       "max       2.000000             10.000000  1.108237e+06  "
      ]
     },
     "execution_count": 151,
     "metadata": {},
     "output_type": "execute_result"
    }
   ],
   "source": [
    "# passo 1 - importar e visualizar o dataset\n",
    "import pandas as pd\n",
    "\n",
    "tabela = pd.read_csv('house_price_regression_dataset.csv')\n",
    "display(tabela.head(4))\n",
    "display(tabela.info())\n",
    "display(tabela.nunique())\n",
    "tabela.describe()\n"
   ]
  },
  {
   "cell_type": "code",
   "execution_count": 152,
   "id": "d2798327",
   "metadata": {},
   "outputs": [
    {
     "data": {
      "application/vnd.plotly.v1+json": {
       "config": {
        "plotlyServerURL": "https://plot.ly"
       },
       "data": [
        {
         "bingroup": "x",
         "histfunc": "sum",
         "hovertemplate": "Year_Built=%{x}<br>sum of House_Price=%{y}<extra></extra>",
         "legendgroup": "",
         "marker": {
          "color": "#636efa",
          "pattern": {
           "shape": ""
          }
         },
         "name": "",
         "orientation": "v",
         "showlegend": false,
         "type": "histogram",
         "x": {
          "bdata": "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",
          "dtype": "i2"
         },
         "xaxis": "x",
         "y": {
          "bdata": "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",
          "dtype": "f8"
         },
         "yaxis": "y"
        }
       ],
       "layout": {
        "barmode": "relative",
        "legend": {
         "tracegroupgap": 0
        },
        "margin": {
         "t": 60
        },
        "template": {
         "data": {
          "bar": [
           {
            "error_x": {
             "color": "#2a3f5f"
            },
            "error_y": {
             "color": "#2a3f5f"
            },
            "marker": {
             "line": {
              "color": "#E5ECF6",
              "width": 0.5
             },
             "pattern": {
              "fillmode": "overlay",
              "size": 10,
              "solidity": 0.2
             }
            },
            "type": "bar"
           }
          ],
          "barpolar": [
           {
            "marker": {
             "line": {
              "color": "#E5ECF6",
              "width": 0.5
             },
             "pattern": {
              "fillmode": "overlay",
              "size": 10,
              "solidity": 0.2
             }
            },
            "type": "barpolar"
           }
          ],
          "carpet": [
           {
            "aaxis": {
             "endlinecolor": "#2a3f5f",
             "gridcolor": "white",
             "linecolor": "white",
             "minorgridcolor": "white",
             "startlinecolor": "#2a3f5f"
            },
            "baxis": {
             "endlinecolor": "#2a3f5f",
             "gridcolor": "white",
             "linecolor": "white",
             "minorgridcolor": "white",
             "startlinecolor": "#2a3f5f"
            },
            "type": "carpet"
           }
          ],
          "choropleth": [
           {
            "colorbar": {
             "outlinewidth": 0,
             "ticks": ""
            },
            "type": "choropleth"
           }
          ],
          "contour": [
           {
            "colorbar": {
             "outlinewidth": 0,
             "ticks": ""
            },
            "colorscale": [
             [
              0,
              "#0d0887"
             ],
             [
              0.1111111111111111,
              "#46039f"
             ],
             [
              0.2222222222222222,
              "#7201a8"
             ],
             [
              0.3333333333333333,
              "#9c179e"
             ],
             [
              0.4444444444444444,
              "#bd3786"
             ],
             [
              0.5555555555555556,
              "#d8576b"
             ],
             [
              0.6666666666666666,
              "#ed7953"
             ],
             [
              0.7777777777777778,
              "#fb9f3a"
             ],
             [
              0.8888888888888888,
              "#fdca26"
             ],
             [
              1,
              "#f0f921"
             ]
            ],
            "type": "contour"
           }
          ],
          "contourcarpet": [
           {
            "colorbar": {
             "outlinewidth": 0,
             "ticks": ""
            },
            "type": "contourcarpet"
           }
          ],
          "heatmap": [
           {
            "colorbar": {
             "outlinewidth": 0,
             "ticks": ""
            },
            "colorscale": [
             [
              0,
              "#0d0887"
             ],
             [
              0.1111111111111111,
              "#46039f"
             ],
             [
              0.2222222222222222,
              "#7201a8"
             ],
             [
              0.3333333333333333,
              "#9c179e"
             ],
             [
              0.4444444444444444,
              "#bd3786"
             ],
             [
              0.5555555555555556,
              "#d8576b"
             ],
             [
              0.6666666666666666,
              "#ed7953"
             ],
             [
              0.7777777777777778,
              "#fb9f3a"
             ],
             [
              0.8888888888888888,
              "#fdca26"
             ],
             [
              1,
              "#f0f921"
             ]
            ],
            "type": "heatmap"
           }
          ],
          "histogram": [
           {
            "marker": {
             "pattern": {
              "fillmode": "overlay",
              "size": 10,
              "solidity": 0.2
             }
            },
            "type": "histogram"
           }
          ],
          "histogram2d": [
           {
            "colorbar": {
             "outlinewidth": 0,
             "ticks": ""
            },
            "colorscale": [
             [
              0,
              "#0d0887"
             ],
             [
              0.1111111111111111,
              "#46039f"
             ],
             [
              0.2222222222222222,
              "#7201a8"
             ],
             [
              0.3333333333333333,
              "#9c179e"
             ],
             [
              0.4444444444444444,
              "#bd3786"
             ],
             [
              0.5555555555555556,
              "#d8576b"
             ],
             [
              0.6666666666666666,
              "#ed7953"
             ],
             [
              0.7777777777777778,
              "#fb9f3a"
             ],
             [
              0.8888888888888888,
              "#fdca26"
             ],
             [
              1,
              "#f0f921"
             ]
            ],
            "type": "histogram2d"
           }
          ],
          "histogram2dcontour": [
           {
            "colorbar": {
             "outlinewidth": 0,
             "ticks": ""
            },
            "colorscale": [
             [
              0,
              "#0d0887"
             ],
             [
              0.1111111111111111,
              "#46039f"
             ],
             [
              0.2222222222222222,
              "#7201a8"
             ],
             [
              0.3333333333333333,
              "#9c179e"
             ],
             [
              0.4444444444444444,
              "#bd3786"
             ],
             [
              0.5555555555555556,
              "#d8576b"
             ],
             [
              0.6666666666666666,
              "#ed7953"
             ],
             [
              0.7777777777777778,
              "#fb9f3a"
             ],
             [
              0.8888888888888888,
              "#fdca26"
             ],
             [
              1,
              "#f0f921"
             ]
            ],
            "type": "histogram2dcontour"
           }
          ],
          "mesh3d": [
           {
            "colorbar": {
             "outlinewidth": 0,
             "ticks": ""
            },
            "type": "mesh3d"
           }
          ],
          "parcoords": [
           {
            "line": {
             "colorbar": {
              "outlinewidth": 0,
              "ticks": ""
             }
            },
            "type": "parcoords"
           }
          ],
          "pie": [
           {
            "automargin": true,
            "type": "pie"
           }
          ],
          "scatter": [
           {
            "fillpattern": {
             "fillmode": "overlay",
             "size": 10,
             "solidity": 0.2
            },
            "type": "scatter"
           }
          ],
          "scatter3d": [
           {
            "line": {
             "colorbar": {
              "outlinewidth": 0,
              "ticks": ""
             }
            },
            "marker": {
             "colorbar": {
              "outlinewidth": 0,
              "ticks": ""
             }
            },
            "type": "scatter3d"
           }
          ],
          "scattercarpet": [
           {
            "marker": {
             "colorbar": {
              "outlinewidth": 0,
              "ticks": ""
             }
            },
            "type": "scattercarpet"
           }
          ],
          "scattergeo": [
           {
            "marker": {
             "colorbar": {
              "outlinewidth": 0,
              "ticks": ""
             }
            },
            "type": "scattergeo"
           }
          ],
          "scattergl": [
           {
            "marker": {
             "colorbar": {
              "outlinewidth": 0,
              "ticks": ""
             }
            },
            "type": "scattergl"
           }
          ],
          "scattermap": [
           {
            "marker": {
             "colorbar": {
              "outlinewidth": 0,
              "ticks": ""
             }
            },
            "type": "scattermap"
           }
          ],
          "scattermapbox": [
           {
            "marker": {
             "colorbar": {
              "outlinewidth": 0,
              "ticks": ""
             }
            },
            "type": "scattermapbox"
           }
          ],
          "scatterpolar": [
           {
            "marker": {
             "colorbar": {
              "outlinewidth": 0,
              "ticks": ""
             }
            },
            "type": "scatterpolar"
           }
          ],
          "scatterpolargl": [
           {
            "marker": {
             "colorbar": {
              "outlinewidth": 0,
              "ticks": ""
             }
            },
            "type": "scatterpolargl"
           }
          ],
          "scatterternary": [
           {
            "marker": {
             "colorbar": {
              "outlinewidth": 0,
              "ticks": ""
             }
            },
            "type": "scatterternary"
           }
          ],
          "surface": [
           {
            "colorbar": {
             "outlinewidth": 0,
             "ticks": ""
            },
            "colorscale": [
             [
              0,
              "#0d0887"
             ],
             [
              0.1111111111111111,
              "#46039f"
             ],
             [
              0.2222222222222222,
              "#7201a8"
             ],
             [
              0.3333333333333333,
              "#9c179e"
             ],
             [
              0.4444444444444444,
              "#bd3786"
             ],
             [
              0.5555555555555556,
              "#d8576b"
             ],
             [
              0.6666666666666666,
              "#ed7953"
             ],
             [
              0.7777777777777778,
              "#fb9f3a"
             ],
             [
              0.8888888888888888,
              "#fdca26"
             ],
             [
              1,
              "#f0f921"
             ]
            ],
            "type": "surface"
           }
          ],
          "table": [
           {
            "cells": {
             "fill": {
              "color": "#EBF0F8"
             },
             "line": {
              "color": "white"
             }
            },
            "header": {
             "fill": {
              "color": "#C8D4E3"
             },
             "line": {
              "color": "white"
             }
            },
            "type": "table"
           }
          ]
         },
         "layout": {
          "annotationdefaults": {
           "arrowcolor": "#2a3f5f",
           "arrowhead": 0,
           "arrowwidth": 1
          },
          "autotypenumbers": "strict",
          "coloraxis": {
           "colorbar": {
            "outlinewidth": 0,
            "ticks": ""
           }
          },
          "colorscale": {
           "diverging": [
            [
             0,
             "#8e0152"
            ],
            [
             0.1,
             "#c51b7d"
            ],
            [
             0.2,
             "#de77ae"
            ],
            [
             0.3,
             "#f1b6da"
            ],
            [
             0.4,
             "#fde0ef"
            ],
            [
             0.5,
             "#f7f7f7"
            ],
            [
             0.6,
             "#e6f5d0"
            ],
            [
             0.7,
             "#b8e186"
            ],
            [
             0.8,
             "#7fbc41"
            ],
            [
             0.9,
             "#4d9221"
            ],
            [
             1,
             "#276419"
            ]
           ],
           "sequential": [
            [
             0,
             "#0d0887"
            ],
            [
             0.1111111111111111,
             "#46039f"
            ],
            [
             0.2222222222222222,
             "#7201a8"
            ],
            [
             0.3333333333333333,
             "#9c179e"
            ],
            [
             0.4444444444444444,
             "#bd3786"
            ],
            [
             0.5555555555555556,
             "#d8576b"
            ],
            [
             0.6666666666666666,
             "#ed7953"
            ],
            [
             0.7777777777777778,
             "#fb9f3a"
            ],
            [
             0.8888888888888888,
             "#fdca26"
            ],
            [
             1,
             "#f0f921"
            ]
           ],
           "sequentialminus": [
            [
             0,
             "#0d0887"
            ],
            [
             0.1111111111111111,
             "#46039f"
            ],
            [
             0.2222222222222222,
             "#7201a8"
            ],
            [
             0.3333333333333333,
             "#9c179e"
            ],
            [
             0.4444444444444444,
             "#bd3786"
            ],
            [
             0.5555555555555556,
             "#d8576b"
            ],
            [
             0.6666666666666666,
             "#ed7953"
            ],
            [
             0.7777777777777778,
             "#fb9f3a"
            ],
            [
             0.8888888888888888,
             "#fdca26"
            ],
            [
             1,
             "#f0f921"
            ]
           ]
          },
          "colorway": [
           "#636efa",
           "#EF553B",
           "#00cc96",
           "#ab63fa",
           "#FFA15A",
           "#19d3f3",
           "#FF6692",
           "#B6E880",
           "#FF97FF",
           "#FECB52"
          ],
          "font": {
           "color": "#2a3f5f"
          },
          "geo": {
           "bgcolor": "white",
           "lakecolor": "white",
           "landcolor": "#E5ECF6",
           "showlakes": true,
           "showland": true,
           "subunitcolor": "white"
          },
          "hoverlabel": {
           "align": "left"
          },
          "hovermode": "closest",
          "mapbox": {
           "style": "light"
          },
          "paper_bgcolor": "white",
          "plot_bgcolor": "#E5ECF6",
          "polar": {
           "angularaxis": {
            "gridcolor": "white",
            "linecolor": "white",
            "ticks": ""
           },
           "bgcolor": "#E5ECF6",
           "radialaxis": {
            "gridcolor": "white",
            "linecolor": "white",
            "ticks": ""
           }
          },
          "scene": {
           "xaxis": {
            "backgroundcolor": "#E5ECF6",
            "gridcolor": "white",
            "gridwidth": 2,
            "linecolor": "white",
            "showbackground": true,
            "ticks": "",
            "zerolinecolor": "white"
           },
           "yaxis": {
            "backgroundcolor": "#E5ECF6",
            "gridcolor": "white",
            "gridwidth": 2,
            "linecolor": "white",
            "showbackground": true,
            "ticks": "",
            "zerolinecolor": "white"
           },
           "zaxis": {
            "backgroundcolor": "#E5ECF6",
            "gridcolor": "white",
            "gridwidth": 2,
            "linecolor": "white",
            "showbackground": true,
            "ticks": "",
            "zerolinecolor": "white"
           }
          },
          "shapedefaults": {
           "line": {
            "color": "#2a3f5f"
           }
          },
          "ternary": {
           "aaxis": {
            "gridcolor": "white",
            "linecolor": "white",
            "ticks": ""
           },
           "baxis": {
            "gridcolor": "white",
            "linecolor": "white",
            "ticks": ""
           },
           "bgcolor": "#E5ECF6",
           "caxis": {
            "gridcolor": "white",
            "linecolor": "white",
            "ticks": ""
           }
          },
          "title": {
           "x": 0.05
          },
          "xaxis": {
           "automargin": true,
           "gridcolor": "white",
           "linecolor": "white",
           "ticks": "",
           "title": {
            "standoff": 15
           },
           "zerolinecolor": "white",
           "zerolinewidth": 2
          },
          "yaxis": {
           "automargin": true,
           "gridcolor": "white",
           "linecolor": "white",
           "ticks": "",
           "title": {
            "standoff": 15
           },
           "zerolinecolor": "white",
           "zerolinewidth": 2
          }
         }
        },
        "xaxis": {
         "anchor": "y",
         "domain": [
          0,
          1
         ],
         "title": {
          "text": "Year_Built"
         }
        },
        "yaxis": {
         "anchor": "x",
         "domain": [
          0,
          1
         ],
         "title": {
          "text": "sum of House_Price"
         }
        }
       }
      }
     },
     "metadata": {},
     "output_type": "display_data"
    },
    {
     "data": {
      "application/vnd.plotly.v1+json": {
       "config": {
        "plotlyServerURL": "https://plot.ly"
       },
       "data": [
        {
         "bingroup": "x",
         "histfunc": "sum",
         "hovertemplate": "Garage_Size=%{x}<br>sum of House_Price=%{y}<extra></extra>",
         "legendgroup": "",
         "marker": {
          "color": "#636efa",
          "pattern": {
           "shape": ""
          }
         },
         "name": "",
         "orientation": "v",
         "showlegend": false,
         "type": "histogram",
         "x": {
          "bdata": "AAEAAQACAAEBAgEAAgEBAAACAQACAQECAgABAQECAAECAQABAAABAQACAAEBAgAAAAEAAgEBAAIBAQAAAgACAQICAgEAAQACAgICAgAAAgEBAgABAQECAQEBAQACAgAAAgEBAgEAAQEBAgABAgEAAQABAAEAAQECAgABAAIAAAIBAAIBAgABAQICAgEBAAEAAgIBAgIBAAEAAQECAQEAAgAAAgICAQICAgAAAQABAAIAAQACAQICAQICAAICAgIBAAICAQIBAAACAgIBAgIAAgACAAIAAQAAAAICAgEBAAEAAAABAgEAAAEAAAEBAQAAAgIBAgACAAEBAAIBAQICAAICAgAAAQABAgEBAgEAAAAAAQECAQEBAgABAgICAAECAAICAgICAAEBAQEAAAACAgIBAgECAQICAAICAAEAAAECAQICAQABAgEBAgABAgIBAAEAAAAAAQICAgICAgEAAgECAgAAAAICAgABAgICAQIBAgECAAAAAAIAAQAAAAIAAQAAAAEAAQEAAQIAAAEBAAIBAQICAAIAAgEAAAACAQAAAAABAgEAAQACAgIAAQIAAAECAAECAQEAAAABAAEBAAICAgEBAQABAAACAgIAAAABAAICAAACAAIBAgEAAAEAAQACAAICAQABAAICAAABAAAAAQACAQECAgIAAgABAQIAAgIAAgECAAABAAABAgECAQIBAgECAQACAQICAQIBAAIAAgICAQACAQIBAgAAAgECAQIBAAIAAAICAQEAAQECAQABAAIAAQIBAgIBAQICAQABAgEAAQIBAgIBAgIAAAAAAgECAgIBAAICAAIBAgIAAgIBAAABAgAAAgIAAgACAgECAQIAAAICAAIBAQEBAQICAQICAQICAgECAAABAAEAAAABAQIBAAABAQECAAICAAABAQIBAQAAAQABAAAAAAECAAEBAAIAAQIBAAIBAQEAAgAAAAIAAAAAAQABAAIBAQEBAgABAgEAAQIAAgAAAAECAgIAAQACAQEBAgEBAAABAQAAAAICAAEAAgECAQIBAQEBAgIBAQIBAQEAAQABAgAAAQEAAgIBAgIBAgEAAQAAAgICAQIAAgIBAQABAgEAAgABAQACAQECAQABAQIAAgEBAgICAAECAQAAAAABAAACAAIAAAIAAQEAAQIAAAICAgACAgEBAAEBAgIBAQEAAAABAQAAAQIAAQECAQEAAAICAQACAgIBAAIAAgIAAAABAgEAAgECAQABAgICAgABAAAAAgICAQIBAgIAAAABAQIBAgEBAQABAAABAgICAQIAAgECAAECAQEBAgECAAIAAgECAQACAQAAAg==",
          "dtype": "i1"
         },
         "xaxis": "x",
         "y": {
          "bdata": "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",
          "dtype": "f8"
         },
         "yaxis": "y"
        }
       ],
       "layout": {
        "barmode": "relative",
        "legend": {
         "tracegroupgap": 0
        },
        "margin": {
         "t": 60
        },
        "template": {
         "data": {
          "bar": [
           {
            "error_x": {
             "color": "#2a3f5f"
            },
            "error_y": {
             "color": "#2a3f5f"
            },
            "marker": {
             "line": {
              "color": "#E5ECF6",
              "width": 0.5
             },
             "pattern": {
              "fillmode": "overlay",
              "size": 10,
              "solidity": 0.2
             }
            },
            "type": "bar"
           }
          ],
          "barpolar": [
           {
            "marker": {
             "line": {
              "color": "#E5ECF6",
              "width": 0.5
             },
             "pattern": {
              "fillmode": "overlay",
              "size": 10,
              "solidity": 0.2
             }
            },
            "type": "barpolar"
           }
          ],
          "carpet": [
           {
            "aaxis": {
             "endlinecolor": "#2a3f5f",
             "gridcolor": "white",
             "linecolor": "white",
             "minorgridcolor": "white",
             "startlinecolor": "#2a3f5f"
            },
            "baxis": {
             "endlinecolor": "#2a3f5f",
             "gridcolor": "white",
             "linecolor": "white",
             "minorgridcolor": "white",
             "startlinecolor": "#2a3f5f"
            },
            "type": "carpet"
           }
          ],
          "choropleth": [
           {
            "colorbar": {
             "outlinewidth": 0,
             "ticks": ""
            },
            "type": "choropleth"
           }
          ],
          "contour": [
           {
            "colorbar": {
             "outlinewidth": 0,
             "ticks": ""
            },
            "colorscale": [
             [
              0,
              "#0d0887"
             ],
             [
              0.1111111111111111,
              "#46039f"
             ],
             [
              0.2222222222222222,
              "#7201a8"
             ],
             [
              0.3333333333333333,
              "#9c179e"
             ],
             [
              0.4444444444444444,
              "#bd3786"
             ],
             [
              0.5555555555555556,
              "#d8576b"
             ],
             [
              0.6666666666666666,
              "#ed7953"
             ],
             [
              0.7777777777777778,
              "#fb9f3a"
             ],
             [
              0.8888888888888888,
              "#fdca26"
             ],
             [
              1,
              "#f0f921"
             ]
            ],
            "type": "contour"
           }
          ],
          "contourcarpet": [
           {
            "colorbar": {
             "outlinewidth": 0,
             "ticks": ""
            },
            "type": "contourcarpet"
           }
          ],
          "heatmap": [
           {
            "colorbar": {
             "outlinewidth": 0,
             "ticks": ""
            },
            "colorscale": [
             [
              0,
              "#0d0887"
             ],
             [
              0.1111111111111111,
              "#46039f"
             ],
             [
              0.2222222222222222,
              "#7201a8"
             ],
             [
              0.3333333333333333,
              "#9c179e"
             ],
             [
              0.4444444444444444,
              "#bd3786"
             ],
             [
              0.5555555555555556,
              "#d8576b"
             ],
             [
              0.6666666666666666,
              "#ed7953"
             ],
             [
              0.7777777777777778,
              "#fb9f3a"
             ],
             [
              0.8888888888888888,
              "#fdca26"
             ],
             [
              1,
              "#f0f921"
             ]
            ],
            "type": "heatmap"
           }
          ],
          "histogram": [
           {
            "marker": {
             "pattern": {
              "fillmode": "overlay",
              "size": 10,
              "solidity": 0.2
             }
            },
            "type": "histogram"
           }
          ],
          "histogram2d": [
           {
            "colorbar": {
             "outlinewidth": 0,
             "ticks": ""
            },
            "colorscale": [
             [
              0,
              "#0d0887"
             ],
             [
              0.1111111111111111,
              "#46039f"
             ],
             [
              0.2222222222222222,
              "#7201a8"
             ],
             [
              0.3333333333333333,
              "#9c179e"
             ],
             [
              0.4444444444444444,
              "#bd3786"
             ],
             [
              0.5555555555555556,
              "#d8576b"
             ],
             [
              0.6666666666666666,
              "#ed7953"
             ],
             [
              0.7777777777777778,
              "#fb9f3a"
             ],
             [
              0.8888888888888888,
              "#fdca26"
             ],
             [
              1,
              "#f0f921"
             ]
            ],
            "type": "histogram2d"
           }
          ],
          "histogram2dcontour": [
           {
            "colorbar": {
             "outlinewidth": 0,
             "ticks": ""
            },
            "colorscale": [
             [
              0,
              "#0d0887"
             ],
             [
              0.1111111111111111,
              "#46039f"
             ],
             [
              0.2222222222222222,
              "#7201a8"
             ],
             [
              0.3333333333333333,
              "#9c179e"
             ],
             [
              0.4444444444444444,
              "#bd3786"
             ],
             [
              0.5555555555555556,
              "#d8576b"
             ],
             [
              0.6666666666666666,
              "#ed7953"
             ],
             [
              0.7777777777777778,
              "#fb9f3a"
             ],
             [
              0.8888888888888888,
              "#fdca26"
             ],
             [
              1,
              "#f0f921"
             ]
            ],
            "type": "histogram2dcontour"
           }
          ],
          "mesh3d": [
           {
            "colorbar": {
             "outlinewidth": 0,
             "ticks": ""
            },
            "type": "mesh3d"
           }
          ],
          "parcoords": [
           {
            "line": {
             "colorbar": {
              "outlinewidth": 0,
              "ticks": ""
             }
            },
            "type": "parcoords"
           }
          ],
          "pie": [
           {
            "automargin": true,
            "type": "pie"
           }
          ],
          "scatter": [
           {
            "fillpattern": {
             "fillmode": "overlay",
             "size": 10,
             "solidity": 0.2
            },
            "type": "scatter"
           }
          ],
          "scatter3d": [
           {
            "line": {
             "colorbar": {
              "outlinewidth": 0,
              "ticks": ""
             }
            },
            "marker": {
             "colorbar": {
              "outlinewidth": 0,
              "ticks": ""
             }
            },
            "type": "scatter3d"
           }
          ],
          "scattercarpet": [
           {
            "marker": {
             "colorbar": {
              "outlinewidth": 0,
              "ticks": ""
             }
            },
            "type": "scattercarpet"
           }
          ],
          "scattergeo": [
           {
            "marker": {
             "colorbar": {
              "outlinewidth": 0,
              "ticks": ""
             }
            },
            "type": "scattergeo"
           }
          ],
          "scattergl": [
           {
            "marker": {
             "colorbar": {
              "outlinewidth": 0,
              "ticks": ""
             }
            },
            "type": "scattergl"
           }
          ],
          "scattermap": [
           {
            "marker": {
             "colorbar": {
              "outlinewidth": 0,
              "ticks": ""
             }
            },
            "type": "scattermap"
           }
          ],
          "scattermapbox": [
           {
            "marker": {
             "colorbar": {
              "outlinewidth": 0,
              "ticks": ""
             }
            },
            "type": "scattermapbox"
           }
          ],
          "scatterpolar": [
           {
            "marker": {
             "colorbar": {
              "outlinewidth": 0,
              "ticks": ""
             }
            },
            "type": "scatterpolar"
           }
          ],
          "scatterpolargl": [
           {
            "marker": {
             "colorbar": {
              "outlinewidth": 0,
              "ticks": ""
             }
            },
            "type": "scatterpolargl"
           }
          ],
          "scatterternary": [
           {
            "marker": {
             "colorbar": {
              "outlinewidth": 0,
              "ticks": ""
             }
            },
            "type": "scatterternary"
           }
          ],
          "surface": [
           {
            "colorbar": {
             "outlinewidth": 0,
             "ticks": ""
            },
            "colorscale": [
             [
              0,
              "#0d0887"
             ],
             [
              0.1111111111111111,
              "#46039f"
             ],
             [
              0.2222222222222222,
              "#7201a8"
             ],
             [
              0.3333333333333333,
              "#9c179e"
             ],
             [
              0.4444444444444444,
              "#bd3786"
             ],
             [
              0.5555555555555556,
              "#d8576b"
             ],
             [
              0.6666666666666666,
              "#ed7953"
             ],
             [
              0.7777777777777778,
              "#fb9f3a"
             ],
             [
              0.8888888888888888,
              "#fdca26"
             ],
             [
              1,
              "#f0f921"
             ]
            ],
            "type": "surface"
           }
          ],
          "table": [
           {
            "cells": {
             "fill": {
              "color": "#EBF0F8"
             },
             "line": {
              "color": "white"
             }
            },
            "header": {
             "fill": {
              "color": "#C8D4E3"
             },
             "line": {
              "color": "white"
             }
            },
            "type": "table"
           }
          ]
         },
         "layout": {
          "annotationdefaults": {
           "arrowcolor": "#2a3f5f",
           "arrowhead": 0,
           "arrowwidth": 1
          },
          "autotypenumbers": "strict",
          "coloraxis": {
           "colorbar": {
            "outlinewidth": 0,
            "ticks": ""
           }
          },
          "colorscale": {
           "diverging": [
            [
             0,
             "#8e0152"
            ],
            [
             0.1,
             "#c51b7d"
            ],
            [
             0.2,
             "#de77ae"
            ],
            [
             0.3,
             "#f1b6da"
            ],
            [
             0.4,
             "#fde0ef"
            ],
            [
             0.5,
             "#f7f7f7"
            ],
            [
             0.6,
             "#e6f5d0"
            ],
            [
             0.7,
             "#b8e186"
            ],
            [
             0.8,
             "#7fbc41"
            ],
            [
             0.9,
             "#4d9221"
            ],
            [
             1,
             "#276419"
            ]
           ],
           "sequential": [
            [
             0,
             "#0d0887"
            ],
            [
             0.1111111111111111,
             "#46039f"
            ],
            [
             0.2222222222222222,
             "#7201a8"
            ],
            [
             0.3333333333333333,
             "#9c179e"
            ],
            [
             0.4444444444444444,
             "#bd3786"
            ],
            [
             0.5555555555555556,
             "#d8576b"
            ],
            [
             0.6666666666666666,
             "#ed7953"
            ],
            [
             0.7777777777777778,
             "#fb9f3a"
            ],
            [
             0.8888888888888888,
             "#fdca26"
            ],
            [
             1,
             "#f0f921"
            ]
           ],
           "sequentialminus": [
            [
             0,
             "#0d0887"
            ],
            [
             0.1111111111111111,
             "#46039f"
            ],
            [
             0.2222222222222222,
             "#7201a8"
            ],
            [
             0.3333333333333333,
             "#9c179e"
            ],
            [
             0.4444444444444444,
             "#bd3786"
            ],
            [
             0.5555555555555556,
             "#d8576b"
            ],
            [
             0.6666666666666666,
             "#ed7953"
            ],
            [
             0.7777777777777778,
             "#fb9f3a"
            ],
            [
             0.8888888888888888,
             "#fdca26"
            ],
            [
             1,
             "#f0f921"
            ]
           ]
          },
          "colorway": [
           "#636efa",
           "#EF553B",
           "#00cc96",
           "#ab63fa",
           "#FFA15A",
           "#19d3f3",
           "#FF6692",
           "#B6E880",
           "#FF97FF",
           "#FECB52"
          ],
          "font": {
           "color": "#2a3f5f"
          },
          "geo": {
           "bgcolor": "white",
           "lakecolor": "white",
           "landcolor": "#E5ECF6",
           "showlakes": true,
           "showland": true,
           "subunitcolor": "white"
          },
          "hoverlabel": {
           "align": "left"
          },
          "hovermode": "closest",
          "mapbox": {
           "style": "light"
          },
          "paper_bgcolor": "white",
          "plot_bgcolor": "#E5ECF6",
          "polar": {
           "angularaxis": {
            "gridcolor": "white",
            "linecolor": "white",
            "ticks": ""
           },
           "bgcolor": "#E5ECF6",
           "radialaxis": {
            "gridcolor": "white",
            "linecolor": "white",
            "ticks": ""
           }
          },
          "scene": {
           "xaxis": {
            "backgroundcolor": "#E5ECF6",
            "gridcolor": "white",
            "gridwidth": 2,
            "linecolor": "white",
            "showbackground": true,
            "ticks": "",
            "zerolinecolor": "white"
           },
           "yaxis": {
            "backgroundcolor": "#E5ECF6",
            "gridcolor": "white",
            "gridwidth": 2,
            "linecolor": "white",
            "showbackground": true,
            "ticks": "",
            "zerolinecolor": "white"
           },
           "zaxis": {
            "backgroundcolor": "#E5ECF6",
            "gridcolor": "white",
            "gridwidth": 2,
            "linecolor": "white",
            "showbackground": true,
            "ticks": "",
            "zerolinecolor": "white"
           }
          },
          "shapedefaults": {
           "line": {
            "color": "#2a3f5f"
           }
          },
          "ternary": {
           "aaxis": {
            "gridcolor": "white",
            "linecolor": "white",
            "ticks": ""
           },
           "baxis": {
            "gridcolor": "white",
            "linecolor": "white",
            "ticks": ""
           },
           "bgcolor": "#E5ECF6",
           "caxis": {
            "gridcolor": "white",
            "linecolor": "white",
            "ticks": ""
           }
          },
          "title": {
           "x": 0.05
          },
          "xaxis": {
           "automargin": true,
           "gridcolor": "white",
           "linecolor": "white",
           "ticks": "",
           "title": {
            "standoff": 15
           },
           "zerolinecolor": "white",
           "zerolinewidth": 2
          },
          "yaxis": {
           "automargin": true,
           "gridcolor": "white",
           "linecolor": "white",
           "ticks": "",
           "title": {
            "standoff": 15
           },
           "zerolinecolor": "white",
           "zerolinewidth": 2
          }
         }
        },
        "width": 600,
        "xaxis": {
         "anchor": "y",
         "domain": [
          0,
          1
         ],
         "title": {
          "text": "Garage_Size"
         }
        },
        "yaxis": {
         "anchor": "x",
         "domain": [
          0,
          1
         ],
         "title": {
          "text": "sum of House_Price"
         }
        }
       }
      }
     },
     "metadata": {},
     "output_type": "display_data"
    },
    {
     "data": {
      "text/plain": [
       "Num_Bedrooms\n",
       "1    610105.127042\n",
       "2    601324.699465\n",
       "3    653491.479508\n",
       "4    621162.807785\n",
       "5    612880.757669\n",
       "Name: House_Price, dtype: float64"
      ]
     },
     "metadata": {},
     "output_type": "display_data"
    },
    {
     "data": {
      "text/plain": [
       "Num_Bathrooms\n",
       "1    616475.010928\n",
       "2    625152.005929\n",
       "3    615077.581682\n",
       "Name: House_Price, dtype: float64"
      ]
     },
     "metadata": {},
     "output_type": "display_data"
    }
   ],
   "source": [
    "# passo 2 - explorar os dados\n",
    "import plotly.express as px\n",
    "import matplotlib.pyplot as plt\n",
    "\n",
    "fig = px.histogram(tabela, 'Year_Built', 'House_Price')\n",
    "fig.show()\n",
    "\n",
    "fig_garage = px.histogram(tabela, 'Garage_Size', 'House_Price', width=600)\n",
    "fig_garage.show()\n",
    "\n",
    "agrupado_bed = tabela.groupby('Num_Bedrooms')['House_Price'].mean()\n",
    "display(agrupado_bed)\n",
    "\n",
    "agrupado_bath = tabela.groupby('Num_Bathrooms')['House_Price'].mean()\n",
    "display(agrupado_bath)\n"
   ]
  },
  {
   "cell_type": "code",
   "execution_count": 153,
   "id": "69c791d4",
   "metadata": {},
   "outputs": [],
   "source": [
    "# passo 3 - limpar e preparar os dados\n",
    "tabela = tabela.drop(columns='Lot_Size')\n",
    "tabela.nunique()\n",
    "tabela.to_csv('preparado_house_price_regression_dataset.csv')"
   ]
  },
  {
   "cell_type": "code",
   "execution_count": 154,
   "id": "b4bb6427",
   "metadata": {},
   "outputs": [],
   "source": [
    "# passo 4 - separar os dados de teste e treino e treinar o modelo\n",
    "from sklearn.model_selection import train_test_split\n",
    "from sklearn.ensemble import RandomForestRegressor\n",
    "from sklearn.neighbors import KNeighborsRegressor\n",
    "from sklearn.tree import DecisionTreeClassifier\n",
    "\n",
    "X = tabela.drop(columns='House_Price')\n",
    "y = tabela['House_Price']\n",
    "\n",
    "X_train, X_test, y_train, y_test = train_test_split(X, y, test_size=0.25)\n"
   ]
  },
  {
   "cell_type": "code",
   "execution_count": 155,
   "id": "a58939ac",
   "metadata": {},
   "outputs": [],
   "source": [
    "# KNN\n",
    "\n",
    "modelo_KNN = KNeighborsRegressor()\n",
    "\n",
    "modelo_KNN.fit(X, y)\n",
    "\n",
    "pred_KNN = modelo_KNN.predict(X_test)"
   ]
  },
  {
   "cell_type": "code",
   "execution_count": 156,
   "id": "5ce115c6",
   "metadata": {},
   "outputs": [],
   "source": [
    "# random forest\n",
    "\n",
    "modelo_random = RandomForestRegressor()\n",
    "\n",
    "modelo_random.fit(X, y)\n",
    "\n",
    "pred_random = modelo_random.predict(X_test)"
   ]
  },
  {
   "cell_type": "code",
   "execution_count": 157,
   "id": "f1152f6a",
   "metadata": {},
   "outputs": [
    {
     "name": "stdout",
     "output_type": "stream",
     "text": [
      "Erro absoluto médio: 20477.20\n",
      "Raiz do erro quadratico médio: 25665.37\n",
      "Coeficiente de Determinação: 0.99\n"
     ]
    }
   ],
   "source": [
    "# metricas do KNN\n",
    "from sklearn.metrics import r2_score, mean_absolute_error, mean_squared_error\n",
    "import numpy as np\n",
    "\n",
    "MAE_KNN = mean_absolute_error(y_test, y_pred=pred_KNN)\n",
    "RMSE_KNN = np.sqrt(mean_squared_error(y_test, y_pred=pred_KNN))\n",
    "R2_KNN = r2_score(y_test, y_pred=pred_KNN)\n",
    "\n",
    "print(f'Erro absoluto médio: {MAE_KNN:.2f}')\n",
    "print(f'Raiz do erro quadratico médio: {RMSE_KNN:.2f}')\n",
    "print(f'Coeficiente de Determinação: {R2_KNN:.2f}')"
   ]
  },
  {
   "cell_type": "code",
   "execution_count": 158,
   "id": "e47cef8e",
   "metadata": {},
   "outputs": [
    {
     "name": "stdout",
     "output_type": "stream",
     "text": [
      "Erro absoluto médio: 8037.43\n",
      "Raiz do erro quadratico médio: 9968.58\n",
      "Coeficiente de Determinação: 1.00\n"
     ]
    }
   ],
   "source": [
    "# metricas do random forest\n",
    "\n",
    "MAE_random = mean_absolute_error(y_test, y_pred=pred_random)\n",
    "RMSE_random = np.sqrt(mean_squared_error(y_test, y_pred=pred_random))\n",
    "R2_random = r2_score(y_test, y_pred=pred_random)\n",
    "\n",
    "print(f'Erro absoluto médio: {MAE_random:.2f}')\n",
    "print(f'Raiz do erro quadratico médio: {RMSE_random:.2f}')\n",
    "print(f'Coeficiente de Determinação: {R2_random:.2f}')"
   ]
  },
  {
   "cell_type": "code",
   "execution_count": 161,
   "id": "64b16994",
   "metadata": {},
   "outputs": [
    {
     "name": "stdout",
     "output_type": "stream",
     "text": [
      "Validação cruzada de KNN: [0.9824477  0.98360341 0.98610042 0.98428347 0.98313335]\n"
     ]
    }
   ],
   "source": [
    "# cross validation KNN\n",
    "from sklearn.model_selection import cross_val_score\n",
    "\n",
    "cross_KNN = cross_val_score(modelo_KNN, X, y, cv=5)\n",
    "print(f'Validação cruzada de KNN: {cross_KNN}')"
   ]
  },
  {
   "cell_type": "code",
   "execution_count": 166,
   "id": "3ea46a1d",
   "metadata": {},
   "outputs": [
    {
     "name": "stdout",
     "output_type": "stream",
     "text": [
      "Validação cruzada de Random Forest: [0.98864172 0.98701169 0.99039208 0.98831845 0.9867648 ]\n"
     ]
    }
   ],
   "source": [
    "# cross validation de random forest\n",
    "\n",
    "cross_random = cross_val_score(modelo_random, X, y, cv=5)\n",
    "print(f'Validação cruzada de Random Forest: {cross_random}')"
   ]
  },
  {
   "cell_type": "code",
   "execution_count": null,
   "id": "716cf2c8",
   "metadata": {},
   "outputs": [],
   "source": [
    "# Escolha do modelo\n",
    "\n",
    "# Primeiras analises\n",
    "# KNN:\n",
    "# Erro absoluto médio: 190532.39\n",
    "# Raiz do erro quadratico médio: 227520.19\n",
    "# Coeficiente de Determinação: 0.20\n",
    "\n",
    "# Random Forest:\n",
    "# Erro absoluto médio: 86330.17\n",
    "# Raiz do erro quadratico médio: 106310.49\n",
    "# Coeficiente de Determinação: 0.82\n",
    "\n",
    "# Apos modificacoes\n",
    "# KNN: \n",
    "# Erro absoluto médio: 21025.07\n",
    "# Raiz do erro quadratico médio: 25756.15\n",
    "# Coeficiente de Determinação: 0.99\n",
    "\n",
    "# Random Forest:\n",
    "# Erro absoluto médio: 8057.07\n",
    "# Raiz do erro quadratico médio: 10053.57\n",
    "# Coeficiente de Determinação: 1.00"
   ]
  },
  {
   "cell_type": "code",
   "execution_count": 188,
   "id": "1e9d8128",
   "metadata": {},
   "outputs": [
    {
     "data": {
      "image/png": "[encoded data removed]",
      "text/plain": [
       "<Figure size 1200x500 with 2 Axes>"
      ]
     },
     "metadata": {},
     "output_type": "display_data"
    }
   ],
   "source": [
    "# visualizacoes no KNN\n",
    "import matplotlib.pyplot as plt\n",
    "import seaborn as sns\n",
    "\n",
    "plt.figure(figsize=(12, 5))\n",
    "plt.suptitle(\"Análise do KNN\")\n",
    "\n",
    "plt.subplot(1, 2, 1)\n",
    "plt.scatter(y_test, pred_KNN) # cria grafico de dispersao entre os valores reais e previsto\n",
    "plt.xlabel(\"Valor Real\")\n",
    "plt.ylabel(\"Valor Previsto\")\n",
    "plt.title(\"Dispersão: Valor Real vs Previsto\")\n",
    "plt.plot([y_test.min(), y_test.max()], [y_test.min(), y_test.max()], 'r--')\n",
    "# plota uma linha tracejada representando a linha ideal onde o valor real = valor previsto\n",
    "\n",
    "plt.subplot(1, 2, 2)\n",
    "erros = y_test - pred_KNN # calcula os erros (residuos) subtraindo os valores prvistos dos reais\n",
    "sns.histplot(erros, bins=30, kde=True) # histograma com densidade(kde = True) para visualizar as distribuição dos erros\n",
    "plt.title(\"Distribuição dos Erros\")\n",
    "plt.xlabel('Erro')\n",
    "plt.ylabel('Frequência')\n",
    "\n",
    "plt.savefig(\"images/AnaliseKNN.png\", dpi=300, bbox_inches='tight')\n",
    "# dpi=300 -> define a resolucao da imagem\n",
    "# bbox_inches='tight' -> remove espacos em branco desnecessarios ao redor da imagem\n",
    "\n",
    "plt.tight_layout()\n",
    "plt.show()"
   ]
  },
  {
   "cell_type": "code",
   "execution_count": 189,
   "id": "4fb7aae0",
   "metadata": {},
   "outputs": [
    {
     "data": {
      "image/png": "[encoded data removed]",
      "text/plain": [
       "<Figure size 1200x500 with 3 Axes>"
      ]
     },
     "metadata": {},
     "output_type": "display_data"
    }
   ],
   "source": [
    "# visualizacoes Random forest\n",
    "\n",
    "plt.figure(figsize=(12,5))\n",
    "plt.suptitle('Análise do Random Forest')\n",
    "\n",
    "plt.subplot(1,3,1)\n",
    "plt.scatter(y_test, pred_random)\n",
    "plt.xlabel(\"Valor Real\")\n",
    "plt.ylabel(\"Valor Previsto\")\n",
    "plt.title(\"Dispersão: Valor Real vs Previsto\")\n",
    "plt.plot([y_test.min(), y_test.max()], [y_test.min(), y_test.max()], 'r--')\n",
    "\n",
    "plt.subplot(1,3,2)\n",
    "erros_random = y_test - pred_random\n",
    "sns.histplot(erros_random, bins=30, kde=True)\n",
    "# bins = 30 -> é usado em histogramas para para controlar o número de divisões do eixo X\n",
    "plt.title(\"Distribuição dos Erros\")\n",
    "plt.xlabel('Erro')\n",
    "plt.ylabel('Frequência')\n",
    "\n",
    "plt.subplot(1, 3, 3)\n",
    "importances = modelo_random.feature_importances_ # obtem a importancia de cada variavel\n",
    "plt.barh(X.columns, importances)\n",
    "# X.columns -> é usado quando tens um dataframe X e queres acessar os nomes das colunas\n",
    "plt.title(\"Importância das variáveis\")\n",
    "plt.xlabel(\"Importância\")\n",
    "plt.ylabel('Variável')\n",
    "\n",
    "plt.savefig(\"images/AnaliseRandomForest.png\", dpi=300, bbox_inches='tight')\n",
    "# dpi=300 -> define a resolucao da imagem\n",
    "# bbox_inches='tight' -> remove espacos em branco desnecessarios ao redor da imagem\n",
    "\n",
    "plt.tight_layout()\n",
    "plt.show()\n"
   ]
  }
 ],
 "metadata": {
  "kernelspec": {
   "display_name": "Python 3",
   "language": "python",
   "name": "python3"
  },
  "language_info": {
   "codemirror_mode": {
    "name": "ipython",
    "version": 3
   },
   "file_extension": ".py",
   "mimetype": "text/x-python",
   "name": "python",
   "nbconvert_exporter": "python",
   "pygments_lexer": "ipython3",
   "version": "3.13.2"
  }
 },
 "nbformat": 4,
 "nbformat_minor": 5
}
